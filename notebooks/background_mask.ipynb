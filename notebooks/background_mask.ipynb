{
 "cells": [
  {
   "cell_type": "code",
   "execution_count": 1,
   "metadata": {},
   "outputs": [],
   "source": [
    "import cv2\n",
    "import numpy as np\n",
    "import torch\n",
    "from torchvision import models\n",
    "import torchvision.transforms as T\n",
    "from PIL import Image\n",
    "\n",
    "\n",
    "def decode_segmap(image, nc=21):\n",
    "   \n",
    "  label_colors = np.array([(0, 0, 0),  # 0=background\n",
    "               # 1=aeroplane, 2=bicycle, 3=bird, 4=boat, 5=bottle\n",
    "               (128, 0, 0), (0, 128, 0), (128, 128, 0), (0, 0, 128), (128, 0, 128),\n",
    "               # 6=bus, 7=car, 8=cat, 9=chair, 10=cow\n",
    "               (0, 128, 128), (128, 128, 128), (64, 0, 0), (192, 0, 0), (64, 128, 0),\n",
    "               # 11=dining table, 12=dog, 13=horse, 14=motorbike, 15=person\n",
    "               (192, 128, 0), (64, 0, 128), (192, 0, 128), (64, 128, 128), (255, 255, 255),\n",
    "               # 16=potted plant, 17=sheep, 18=sofa, 19=train, 20=tv/monitor\n",
    "               (0, 64, 0), (128, 64, 0), (0, 192, 0), (128, 192, 0), (0, 64, 128)])\n",
    " \n",
    "  r = np.zeros_like(image).astype(np.uint8)\n",
    "  g = np.zeros_like(image).astype(np.uint8)\n",
    "  b = np.zeros_like(image).astype(np.uint8)\n",
    "   \n",
    "  for l in (0,15):\n",
    "    idx = image == l\n",
    "    r[idx] = label_colors[l, 0]\n",
    "    g[idx] = label_colors[l, 1]\n",
    "    b[idx] = label_colors[l, 2]\n",
    "     \n",
    "  rgb = np.stack([r, g, b], axis=2)\n",
    "  return rgb"
   ]
  },
  {
   "cell_type": "code",
   "execution_count": 4,
   "metadata": {},
   "outputs": [],
   "source": [
    "\n",
    "#fcn = models.segmentation.fcn_resnet101(pretrained=True).eval().cuda()\n",
    "dlab = models.segmentation.deeplabv3_resnet101(pretrained=1).eval().cuda()\n",
    "transform = T.Compose([T.ToTensor(), \n",
    "                       T.Normalize(mean = [0.485, 0.456, 0.406], \n",
    "                                   std = [0.229, 0.224, 0.225])])"
   ]
  },
  {
   "cell_type": "code",
   "execution_count": 5,
   "metadata": {},
   "outputs": [],
   "source": [
    "vc = cv2.VideoCapture('/home/juancamilog/Downloads/hellou.mov')"
   ]
  },
  {
   "cell_type": "code",
   "execution_count": 6,
   "metadata": {
    "scrolled": true
   },
   "outputs": [],
   "source": [
    "ret, img = vc.read()\n",
    "while ret:\n",
    "    img = cv2.pyrDown(img)\n",
    "    im_pil = cv2.cvtColor(img, cv2.COLOR_BGR2RGB)\n",
    "    im_pil = Image.fromarray(im_pil)\n",
    "    inp = transform(im_pil).unsqueeze(0).cuda()\n",
    "    #inp = \n",
    "    with torch.no_grad():\n",
    "        out = dlab(inp)['out']\n",
    "        torch.cuda.empty_cache()\n",
    "    om = torch.argmax(out.squeeze(), dim=0).detach().cpu().numpy()\n",
    "    rgb = decode_segmap(om)\n",
    "    cv2.imshow(\"original\", img)\n",
    "    mask = np.zeros((540,960, 3)).astype(np.uint8)\n",
    "    mask[:,:] = rgb\n",
    "    mask = cv2.resize(mask, (img.shape[1],img.shape[0]))\n",
    "    masked_img = img.copy()\n",
    "    masked_img[mask == 0] = 0\n",
    "    cv2.imshow(\"segmented\", masked_img)\n",
    "    c = cv2.waitKey(1)\n",
    "    if c == ord('x'):\n",
    "        break\n",
    "    ret, img = vc.read()"
   ]
  },
  {
   "cell_type": "code",
   "execution_count": null,
   "metadata": {},
   "outputs": [],
   "source": []
  }
 ],
 "metadata": {
  "kernelspec": {
   "display_name": "Python 3",
   "language": "python",
   "name": "python3"
  },
  "language_info": {
   "codemirror_mode": {
    "name": "ipython",
    "version": 3
   },
   "file_extension": ".py",
   "mimetype": "text/x-python",
   "name": "python",
   "nbconvert_exporter": "python",
   "pygments_lexer": "ipython3",
   "version": "3.7.6"
  }
 },
 "nbformat": 4,
 "nbformat_minor": 2
}
